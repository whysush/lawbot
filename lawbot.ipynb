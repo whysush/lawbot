{
  "nbformat": 4,
  "nbformat_minor": 0,
  "metadata": {
    "colab": {
      "provenance": [],
      "authorship_tag": "ABX9TyPJCgOu22cP2Hu/RI042iEu",
      "include_colab_link": true
    },
    "kernelspec": {
      "name": "python3",
      "display_name": "Python 3"
    },
    "language_info": {
      "name": "python"
    },
    "widgets": {
      "application/vnd.jupyter.widget-state+json": {
        "fa80f09ed7474a28a28fa7fe7e7541e3": {
          "model_module": "@jupyter-widgets/controls",
          "model_name": "TextModel",
          "model_module_version": "1.5.0",
          "state": {
            "_dom_classes": [],
            "_model_module": "@jupyter-widgets/controls",
            "_model_module_version": "1.5.0",
            "_model_name": "TextModel",
            "_view_count": null,
            "_view_module": "@jupyter-widgets/controls",
            "_view_module_version": "1.5.0",
            "_view_name": "TextView",
            "continuous_update": true,
            "description": "Ask:",
            "description_tooltip": null,
            "disabled": false,
            "layout": "IPY_MODEL_eeb5794faa29499c9366006cc5d577e5",
            "placeholder": "Type your question here...",
            "style": "IPY_MODEL_808e01e77390428280b3f83d02bd1bfd",
            "value": ""
          }
        },
        "eeb5794faa29499c9366006cc5d577e5": {
          "model_module": "@jupyter-widgets/base",
          "model_name": "LayoutModel",
          "model_module_version": "1.2.0",
          "state": {
            "_model_module": "@jupyter-widgets/base",
            "_model_module_version": "1.2.0",
            "_model_name": "LayoutModel",
            "_view_count": null,
            "_view_module": "@jupyter-widgets/base",
            "_view_module_version": "1.2.0",
            "_view_name": "LayoutView",
            "align_content": null,
            "align_items": null,
            "align_self": null,
            "border": null,
            "bottom": null,
            "display": null,
            "flex": null,
            "flex_flow": null,
            "grid_area": null,
            "grid_auto_columns": null,
            "grid_auto_flow": null,
            "grid_auto_rows": null,
            "grid_column": null,
            "grid_gap": null,
            "grid_row": null,
            "grid_template_areas": null,
            "grid_template_columns": null,
            "grid_template_rows": null,
            "height": null,
            "justify_content": null,
            "justify_items": null,
            "left": null,
            "margin": null,
            "max_height": null,
            "max_width": null,
            "min_height": null,
            "min_width": null,
            "object_fit": null,
            "object_position": null,
            "order": null,
            "overflow": null,
            "overflow_x": null,
            "overflow_y": null,
            "padding": null,
            "right": null,
            "top": null,
            "visibility": null,
            "width": null
          }
        },
        "808e01e77390428280b3f83d02bd1bfd": {
          "model_module": "@jupyter-widgets/controls",
          "model_name": "DescriptionStyleModel",
          "model_module_version": "1.5.0",
          "state": {
            "_model_module": "@jupyter-widgets/controls",
            "_model_module_version": "1.5.0",
            "_model_name": "DescriptionStyleModel",
            "_view_count": null,
            "_view_module": "@jupyter-widgets/base",
            "_view_module_version": "1.2.0",
            "_view_name": "StyleView",
            "description_width": ""
          }
        },
        "6113ea78467f4be6968b775c0b39db55": {
          "model_module": "@jupyter-widgets/output",
          "model_name": "OutputModel",
          "model_module_version": "1.0.0",
          "state": {
            "_dom_classes": [],
            "_model_module": "@jupyter-widgets/output",
            "_model_module_version": "1.0.0",
            "_model_name": "OutputModel",
            "_view_count": null,
            "_view_module": "@jupyter-widgets/output",
            "_view_module_version": "1.0.0",
            "_view_name": "OutputView",
            "layout": "IPY_MODEL_2d1cc27c76fb420aba1b30c0f22c91f9",
            "msg_id": "",
            "outputs": [
              {
                "output_type": "stream",
                "name": "stdout",
                "text": [
                  "You: If two people agree verbally to exchange items but one party later changes their mind, is the agreement legally binding?\n",
                  "LawBot: Yes, if two people verbally agree to exchange items, this is considered a legally binding agreement. Even if one person changes their mind, the fact that the agreement was made verbally does not negate its legal binding nature.\n",
                  "\n"
                ]
              },
              {
                "output_type": "stream",
                "name": "stdout",
                "text": [
                  "You:  If you’re threatened online, are you allowed to defend yourself by taking certain actions (like hacking) against the person making threats?\n",
                  "LawBot: No, according to the provided text, if you're threatened online, you cannot claim to be defending yourself by taking such actions.\n",
                  "\n"
                ]
              },
              {
                "output_type": "stream",
                "name": "stdout",
                "text": [
                  "You: How are jurisdictional issues handled if a crime is committed online, but the victim and perpetrator are in different countries?\n",
                  "LawBot: If the offence relates to a communication link that extends to more than one country or place, it is dealt with in accordance with the provisions of the Indian Penal Code (45 of 1860).\n",
                  "\n"
                ]
              }
            ]
          }
        },
        "2d1cc27c76fb420aba1b30c0f22c91f9": {
          "model_module": "@jupyter-widgets/base",
          "model_name": "LayoutModel",
          "model_module_version": "1.2.0",
          "state": {
            "_model_module": "@jupyter-widgets/base",
            "_model_module_version": "1.2.0",
            "_model_name": "LayoutModel",
            "_view_count": null,
            "_view_module": "@jupyter-widgets/base",
            "_view_module_version": "1.2.0",
            "_view_name": "LayoutView",
            "align_content": null,
            "align_items": null,
            "align_self": null,
            "border": null,
            "bottom": null,
            "display": null,
            "flex": null,
            "flex_flow": null,
            "grid_area": null,
            "grid_auto_columns": null,
            "grid_auto_flow": null,
            "grid_auto_rows": null,
            "grid_column": null,
            "grid_gap": null,
            "grid_row": null,
            "grid_template_areas": null,
            "grid_template_columns": null,
            "grid_template_rows": null,
            "height": null,
            "justify_content": null,
            "justify_items": null,
            "left": null,
            "margin": null,
            "max_height": null,
            "max_width": null,
            "min_height": null,
            "min_width": null,
            "object_fit": null,
            "object_position": null,
            "order": null,
            "overflow": null,
            "overflow_x": null,
            "overflow_y": null,
            "padding": null,
            "right": null,
            "top": null,
            "visibility": null,
            "width": null
          }
        }
      }
    }
  },
  "cells": [
    {
      "cell_type": "markdown",
      "metadata": {
        "id": "view-in-github",
        "colab_type": "text"
      },
      "source": [
        "<a href=\"https://colab.research.google.com/github/whysush/lawbot/blob/main/lawbot.ipynb\" target=\"_parent\"><img src=\"https://colab.research.google.com/assets/colab-badge.svg\" alt=\"Open In Colab\"/></a>"
      ]
    },
    {
      "cell_type": "markdown",
      "source": [
        "# Attempting to fine-tune an LLM Model to answer legal doubts\n",
        "\n",
        "As the title suggests, this is an attempt to fine-tune a Gemini GenAI Model (base model: Gemini 1.5 Flash 001 Tuning) to help answer legal doubts.\n",
        "\n",
        "The dataset used is formatted as a list of legal QnA, which the model then uses to answer user questions.\n",
        "\n",
        "**Note**: This model is not being trained or used as a substitute to actual lawyers. Please rely on professional legal assistance always. The model's responses are to be taken with a grain of salt as it is run on a comparatively small dataset.\n",
        "\n",
        "Dataset based on the Indian Penal Code and the Constitution of India.\n",
        "\n",
        "# Model Details\n",
        "![image.png](data:image/png;base64,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)"
      ],
      "metadata": {
        "id": "Jxqc_JJrK_yY"
      }
    },
    {
      "cell_type": "code",
      "execution_count": 1,
      "metadata": {
        "colab": {
          "base_uri": "https://localhost:8080/"
        },
        "id": "VV08ETqmFz8Z",
        "outputId": "0e6b0398-d87b-4c90-a4fc-0263712ebde0"
      },
      "outputs": [
        {
          "output_type": "stream",
          "name": "stdout",
          "text": [
            "Requirement already satisfied: google-generativeai in /usr/local/lib/python3.10/dist-packages (0.8.3)\n",
            "Requirement already satisfied: google-ai-generativelanguage==0.6.10 in /usr/local/lib/python3.10/dist-packages (from google-generativeai) (0.6.10)\n",
            "Requirement already satisfied: google-api-core in /usr/local/lib/python3.10/dist-packages (from google-generativeai) (2.19.2)\n",
            "Requirement already satisfied: google-api-python-client in /usr/local/lib/python3.10/dist-packages (from google-generativeai) (2.137.0)\n",
            "Requirement already satisfied: google-auth>=2.15.0 in /usr/local/lib/python3.10/dist-packages (from google-generativeai) (2.27.0)\n",
            "Requirement already satisfied: protobuf in /usr/local/lib/python3.10/dist-packages (from google-generativeai) (3.20.3)\n",
            "Requirement already satisfied: pydantic in /usr/local/lib/python3.10/dist-packages (from google-generativeai) (2.9.2)\n",
            "Requirement already satisfied: tqdm in /usr/local/lib/python3.10/dist-packages (from google-generativeai) (4.66.6)\n",
            "Requirement already satisfied: typing-extensions in /usr/local/lib/python3.10/dist-packages (from google-generativeai) (4.12.2)\n",
            "Requirement already satisfied: proto-plus<2.0.0dev,>=1.22.3 in /usr/local/lib/python3.10/dist-packages (from google-ai-generativelanguage==0.6.10->google-generativeai) (1.25.0)\n",
            "Requirement already satisfied: googleapis-common-protos<2.0.dev0,>=1.56.2 in /usr/local/lib/python3.10/dist-packages (from google-api-core->google-generativeai) (1.65.0)\n",
            "Requirement already satisfied: requests<3.0.0.dev0,>=2.18.0 in /usr/local/lib/python3.10/dist-packages (from google-api-core->google-generativeai) (2.32.3)\n",
            "Requirement already satisfied: cachetools<6.0,>=2.0.0 in /usr/local/lib/python3.10/dist-packages (from google-auth>=2.15.0->google-generativeai) (5.5.0)\n",
            "Requirement already satisfied: pyasn1-modules>=0.2.1 in /usr/local/lib/python3.10/dist-packages (from google-auth>=2.15.0->google-generativeai) (0.4.1)\n",
            "Requirement already satisfied: rsa<5,>=3.1.4 in /usr/local/lib/python3.10/dist-packages (from google-auth>=2.15.0->google-generativeai) (4.9)\n",
            "Requirement already satisfied: httplib2<1.dev0,>=0.19.0 in /usr/local/lib/python3.10/dist-packages (from google-api-python-client->google-generativeai) (0.22.0)\n",
            "Requirement already satisfied: google-auth-httplib2<1.0.0,>=0.2.0 in /usr/local/lib/python3.10/dist-packages (from google-api-python-client->google-generativeai) (0.2.0)\n",
            "Requirement already satisfied: uritemplate<5,>=3.0.1 in /usr/local/lib/python3.10/dist-packages (from google-api-python-client->google-generativeai) (4.1.1)\n",
            "Requirement already satisfied: annotated-types>=0.6.0 in /usr/local/lib/python3.10/dist-packages (from pydantic->google-generativeai) (0.7.0)\n",
            "Requirement already satisfied: pydantic-core==2.23.4 in /usr/local/lib/python3.10/dist-packages (from pydantic->google-generativeai) (2.23.4)\n",
            "Requirement already satisfied: grpcio<2.0dev,>=1.33.2 in /usr/local/lib/python3.10/dist-packages (from google-api-core[grpc]!=2.0.*,!=2.1.*,!=2.10.*,!=2.2.*,!=2.3.*,!=2.4.*,!=2.5.*,!=2.6.*,!=2.7.*,!=2.8.*,!=2.9.*,<3.0.0dev,>=1.34.1->google-ai-generativelanguage==0.6.10->google-generativeai) (1.64.1)\n",
            "Requirement already satisfied: grpcio-status<2.0.dev0,>=1.33.2 in /usr/local/lib/python3.10/dist-packages (from google-api-core[grpc]!=2.0.*,!=2.1.*,!=2.10.*,!=2.2.*,!=2.3.*,!=2.4.*,!=2.5.*,!=2.6.*,!=2.7.*,!=2.8.*,!=2.9.*,<3.0.0dev,>=1.34.1->google-ai-generativelanguage==0.6.10->google-generativeai) (1.48.2)\n",
            "Requirement already satisfied: pyparsing!=3.0.0,!=3.0.1,!=3.0.2,!=3.0.3,<4,>=2.4.2 in /usr/local/lib/python3.10/dist-packages (from httplib2<1.dev0,>=0.19.0->google-api-python-client->google-generativeai) (3.2.0)\n",
            "Requirement already satisfied: pyasn1<0.7.0,>=0.4.6 in /usr/local/lib/python3.10/dist-packages (from pyasn1-modules>=0.2.1->google-auth>=2.15.0->google-generativeai) (0.6.1)\n",
            "Requirement already satisfied: charset-normalizer<4,>=2 in /usr/local/lib/python3.10/dist-packages (from requests<3.0.0.dev0,>=2.18.0->google-api-core->google-generativeai) (3.4.0)\n",
            "Requirement already satisfied: idna<4,>=2.5 in /usr/local/lib/python3.10/dist-packages (from requests<3.0.0.dev0,>=2.18.0->google-api-core->google-generativeai) (3.10)\n",
            "Requirement already satisfied: urllib3<3,>=1.21.1 in /usr/local/lib/python3.10/dist-packages (from requests<3.0.0.dev0,>=2.18.0->google-api-core->google-generativeai) (2.2.3)\n",
            "Requirement already satisfied: certifi>=2017.4.17 in /usr/local/lib/python3.10/dist-packages (from requests<3.0.0.dev0,>=2.18.0->google-api-core->google-generativeai) (2024.8.30)\n"
          ]
        }
      ],
      "source": [
        "pip install -U google-generativeai"
      ]
    },
    {
      "source": [
        "import os\n",
        "import google.generativeai as genai\n",
        "\n",
        "genai.configure(api_key=os.environ['GOOGLE_API_KEY'])"
      ],
      "cell_type": "code",
      "metadata": {
        "id": "GwJvkqvQHSGA"
      },
      "execution_count": 17,
      "outputs": []
    },
    {
      "cell_type": "code",
      "source": [
        "for model_info in genai.list_tuned_models():\n",
        "    print(model_info.name)"
      ],
      "metadata": {
        "id": "ChCwAukfGAhC"
      },
      "execution_count": 16,
      "outputs": []
    },
    {
      "cell_type": "code",
      "source": [
        "!pip install ipywidgets"
      ],
      "metadata": {
        "colab": {
          "base_uri": "https://localhost:8080/"
        },
        "id": "r_7J1vjQHppW",
        "outputId": "da1c88f6-d608-4493-89b9-7ed4c7a55047"
      },
      "execution_count": 18,
      "outputs": [
        {
          "output_type": "stream",
          "name": "stdout",
          "text": [
            "Requirement already satisfied: ipywidgets in /usr/local/lib/python3.10/dist-packages (7.7.1)\n",
            "Requirement already satisfied: ipykernel>=4.5.1 in /usr/local/lib/python3.10/dist-packages (from ipywidgets) (5.5.6)\n",
            "Requirement already satisfied: ipython-genutils~=0.2.0 in /usr/local/lib/python3.10/dist-packages (from ipywidgets) (0.2.0)\n",
            "Requirement already satisfied: traitlets>=4.3.1 in /usr/local/lib/python3.10/dist-packages (from ipywidgets) (5.7.1)\n",
            "Requirement already satisfied: widgetsnbextension~=3.6.0 in /usr/local/lib/python3.10/dist-packages (from ipywidgets) (3.6.10)\n",
            "Requirement already satisfied: ipython>=4.0.0 in /usr/local/lib/python3.10/dist-packages (from ipywidgets) (7.34.0)\n",
            "Requirement already satisfied: jupyterlab-widgets>=1.0.0 in /usr/local/lib/python3.10/dist-packages (from ipywidgets) (3.0.13)\n",
            "Requirement already satisfied: jupyter-client in /usr/local/lib/python3.10/dist-packages (from ipykernel>=4.5.1->ipywidgets) (6.1.12)\n",
            "Requirement already satisfied: tornado>=4.2 in /usr/local/lib/python3.10/dist-packages (from ipykernel>=4.5.1->ipywidgets) (6.3.3)\n",
            "Requirement already satisfied: setuptools>=18.5 in /usr/local/lib/python3.10/dist-packages (from ipython>=4.0.0->ipywidgets) (75.1.0)\n",
            "Collecting jedi>=0.16 (from ipython>=4.0.0->ipywidgets)\n",
            "  Downloading jedi-0.19.1-py2.py3-none-any.whl.metadata (22 kB)\n",
            "Requirement already satisfied: decorator in /usr/local/lib/python3.10/dist-packages (from ipython>=4.0.0->ipywidgets) (4.4.2)\n",
            "Requirement already satisfied: pickleshare in /usr/local/lib/python3.10/dist-packages (from ipython>=4.0.0->ipywidgets) (0.7.5)\n",
            "Requirement already satisfied: prompt-toolkit!=3.0.0,!=3.0.1,<3.1.0,>=2.0.0 in /usr/local/lib/python3.10/dist-packages (from ipython>=4.0.0->ipywidgets) (3.0.48)\n",
            "Requirement already satisfied: pygments in /usr/local/lib/python3.10/dist-packages (from ipython>=4.0.0->ipywidgets) (2.18.0)\n",
            "Requirement already satisfied: backcall in /usr/local/lib/python3.10/dist-packages (from ipython>=4.0.0->ipywidgets) (0.2.0)\n",
            "Requirement already satisfied: matplotlib-inline in /usr/local/lib/python3.10/dist-packages (from ipython>=4.0.0->ipywidgets) (0.1.7)\n",
            "Requirement already satisfied: pexpect>4.3 in /usr/local/lib/python3.10/dist-packages (from ipython>=4.0.0->ipywidgets) (4.9.0)\n",
            "Requirement already satisfied: notebook>=4.4.1 in /usr/local/lib/python3.10/dist-packages (from widgetsnbextension~=3.6.0->ipywidgets) (6.5.5)\n",
            "Requirement already satisfied: parso<0.9.0,>=0.8.3 in /usr/local/lib/python3.10/dist-packages (from jedi>=0.16->ipython>=4.0.0->ipywidgets) (0.8.4)\n",
            "Requirement already satisfied: jinja2 in /usr/local/lib/python3.10/dist-packages (from notebook>=4.4.1->widgetsnbextension~=3.6.0->ipywidgets) (3.1.4)\n",
            "Requirement already satisfied: pyzmq<25,>=17 in /usr/local/lib/python3.10/dist-packages (from notebook>=4.4.1->widgetsnbextension~=3.6.0->ipywidgets) (24.0.1)\n",
            "Requirement already satisfied: argon2-cffi in /usr/local/lib/python3.10/dist-packages (from notebook>=4.4.1->widgetsnbextension~=3.6.0->ipywidgets) (23.1.0)\n",
            "Requirement already satisfied: jupyter-core>=4.6.1 in /usr/local/lib/python3.10/dist-packages (from notebook>=4.4.1->widgetsnbextension~=3.6.0->ipywidgets) (5.7.2)\n",
            "Requirement already satisfied: nbformat in /usr/local/lib/python3.10/dist-packages (from notebook>=4.4.1->widgetsnbextension~=3.6.0->ipywidgets) (5.10.4)\n",
            "Requirement already satisfied: nbconvert>=5 in /usr/local/lib/python3.10/dist-packages (from notebook>=4.4.1->widgetsnbextension~=3.6.0->ipywidgets) (7.16.4)\n",
            "Requirement already satisfied: nest-asyncio>=1.5 in /usr/local/lib/python3.10/dist-packages (from notebook>=4.4.1->widgetsnbextension~=3.6.0->ipywidgets) (1.6.0)\n",
            "Requirement already satisfied: Send2Trash>=1.8.0 in /usr/local/lib/python3.10/dist-packages (from notebook>=4.4.1->widgetsnbextension~=3.6.0->ipywidgets) (1.8.3)\n",
            "Requirement already satisfied: terminado>=0.8.3 in /usr/local/lib/python3.10/dist-packages (from notebook>=4.4.1->widgetsnbextension~=3.6.0->ipywidgets) (0.18.1)\n",
            "Requirement already satisfied: prometheus-client in /usr/local/lib/python3.10/dist-packages (from notebook>=4.4.1->widgetsnbextension~=3.6.0->ipywidgets) (0.21.0)\n",
            "Requirement already satisfied: nbclassic>=0.4.7 in /usr/local/lib/python3.10/dist-packages (from notebook>=4.4.1->widgetsnbextension~=3.6.0->ipywidgets) (1.1.0)\n",
            "Requirement already satisfied: python-dateutil>=2.1 in /usr/local/lib/python3.10/dist-packages (from jupyter-client->ipykernel>=4.5.1->ipywidgets) (2.8.2)\n",
            "Requirement already satisfied: ptyprocess>=0.5 in /usr/local/lib/python3.10/dist-packages (from pexpect>4.3->ipython>=4.0.0->ipywidgets) (0.7.0)\n",
            "Requirement already satisfied: wcwidth in /usr/local/lib/python3.10/dist-packages (from prompt-toolkit!=3.0.0,!=3.0.1,<3.1.0,>=2.0.0->ipython>=4.0.0->ipywidgets) (0.2.13)\n",
            "Requirement already satisfied: platformdirs>=2.5 in /usr/local/lib/python3.10/dist-packages (from jupyter-core>=4.6.1->notebook>=4.4.1->widgetsnbextension~=3.6.0->ipywidgets) (4.3.6)\n",
            "Requirement already satisfied: notebook-shim>=0.2.3 in /usr/local/lib/python3.10/dist-packages (from nbclassic>=0.4.7->notebook>=4.4.1->widgetsnbextension~=3.6.0->ipywidgets) (0.2.4)\n",
            "Requirement already satisfied: beautifulsoup4 in /usr/local/lib/python3.10/dist-packages (from nbconvert>=5->notebook>=4.4.1->widgetsnbextension~=3.6.0->ipywidgets) (4.12.3)\n",
            "Requirement already satisfied: bleach!=5.0.0 in /usr/local/lib/python3.10/dist-packages (from nbconvert>=5->notebook>=4.4.1->widgetsnbextension~=3.6.0->ipywidgets) (6.2.0)\n",
            "Requirement already satisfied: defusedxml in /usr/local/lib/python3.10/dist-packages (from nbconvert>=5->notebook>=4.4.1->widgetsnbextension~=3.6.0->ipywidgets) (0.7.1)\n",
            "Requirement already satisfied: jupyterlab-pygments in /usr/local/lib/python3.10/dist-packages (from nbconvert>=5->notebook>=4.4.1->widgetsnbextension~=3.6.0->ipywidgets) (0.3.0)\n",
            "Requirement already satisfied: markupsafe>=2.0 in /usr/local/lib/python3.10/dist-packages (from nbconvert>=5->notebook>=4.4.1->widgetsnbextension~=3.6.0->ipywidgets) (3.0.2)\n",
            "Requirement already satisfied: mistune<4,>=2.0.3 in /usr/local/lib/python3.10/dist-packages (from nbconvert>=5->notebook>=4.4.1->widgetsnbextension~=3.6.0->ipywidgets) (3.0.2)\n",
            "Requirement already satisfied: nbclient>=0.5.0 in /usr/local/lib/python3.10/dist-packages (from nbconvert>=5->notebook>=4.4.1->widgetsnbextension~=3.6.0->ipywidgets) (0.10.0)\n",
            "Requirement already satisfied: packaging in /usr/local/lib/python3.10/dist-packages (from nbconvert>=5->notebook>=4.4.1->widgetsnbextension~=3.6.0->ipywidgets) (24.1)\n",
            "Requirement already satisfied: pandocfilters>=1.4.1 in /usr/local/lib/python3.10/dist-packages (from nbconvert>=5->notebook>=4.4.1->widgetsnbextension~=3.6.0->ipywidgets) (1.5.1)\n",
            "Requirement already satisfied: tinycss2 in /usr/local/lib/python3.10/dist-packages (from nbconvert>=5->notebook>=4.4.1->widgetsnbextension~=3.6.0->ipywidgets) (1.4.0)\n",
            "Requirement already satisfied: fastjsonschema>=2.15 in /usr/local/lib/python3.10/dist-packages (from nbformat->notebook>=4.4.1->widgetsnbextension~=3.6.0->ipywidgets) (2.20.0)\n",
            "Requirement already satisfied: jsonschema>=2.6 in /usr/local/lib/python3.10/dist-packages (from nbformat->notebook>=4.4.1->widgetsnbextension~=3.6.0->ipywidgets) (4.23.0)\n",
            "Requirement already satisfied: six>=1.5 in /usr/local/lib/python3.10/dist-packages (from python-dateutil>=2.1->jupyter-client->ipykernel>=4.5.1->ipywidgets) (1.16.0)\n",
            "Requirement already satisfied: argon2-cffi-bindings in /usr/local/lib/python3.10/dist-packages (from argon2-cffi->notebook>=4.4.1->widgetsnbextension~=3.6.0->ipywidgets) (21.2.0)\n",
            "Requirement already satisfied: webencodings in /usr/local/lib/python3.10/dist-packages (from bleach!=5.0.0->nbconvert>=5->notebook>=4.4.1->widgetsnbextension~=3.6.0->ipywidgets) (0.5.1)\n",
            "Requirement already satisfied: attrs>=22.2.0 in /usr/local/lib/python3.10/dist-packages (from jsonschema>=2.6->nbformat->notebook>=4.4.1->widgetsnbextension~=3.6.0->ipywidgets) (24.2.0)\n",
            "Requirement already satisfied: jsonschema-specifications>=2023.03.6 in /usr/local/lib/python3.10/dist-packages (from jsonschema>=2.6->nbformat->notebook>=4.4.1->widgetsnbextension~=3.6.0->ipywidgets) (2024.10.1)\n",
            "Requirement already satisfied: referencing>=0.28.4 in /usr/local/lib/python3.10/dist-packages (from jsonschema>=2.6->nbformat->notebook>=4.4.1->widgetsnbextension~=3.6.0->ipywidgets) (0.35.1)\n",
            "Requirement already satisfied: rpds-py>=0.7.1 in /usr/local/lib/python3.10/dist-packages (from jsonschema>=2.6->nbformat->notebook>=4.4.1->widgetsnbextension~=3.6.0->ipywidgets) (0.20.0)\n",
            "Requirement already satisfied: jupyter-server<3,>=1.8 in /usr/local/lib/python3.10/dist-packages (from notebook-shim>=0.2.3->nbclassic>=0.4.7->notebook>=4.4.1->widgetsnbextension~=3.6.0->ipywidgets) (1.24.0)\n",
            "Requirement already satisfied: cffi>=1.0.1 in /usr/local/lib/python3.10/dist-packages (from argon2-cffi-bindings->argon2-cffi->notebook>=4.4.1->widgetsnbextension~=3.6.0->ipywidgets) (1.17.1)\n",
            "Requirement already satisfied: soupsieve>1.2 in /usr/local/lib/python3.10/dist-packages (from beautifulsoup4->nbconvert>=5->notebook>=4.4.1->widgetsnbextension~=3.6.0->ipywidgets) (2.6)\n",
            "Requirement already satisfied: pycparser in /usr/local/lib/python3.10/dist-packages (from cffi>=1.0.1->argon2-cffi-bindings->argon2-cffi->notebook>=4.4.1->widgetsnbextension~=3.6.0->ipywidgets) (2.22)\n",
            "Requirement already satisfied: anyio<4,>=3.1.0 in /usr/local/lib/python3.10/dist-packages (from jupyter-server<3,>=1.8->notebook-shim>=0.2.3->nbclassic>=0.4.7->notebook>=4.4.1->widgetsnbextension~=3.6.0->ipywidgets) (3.7.1)\n",
            "Requirement already satisfied: websocket-client in /usr/local/lib/python3.10/dist-packages (from jupyter-server<3,>=1.8->notebook-shim>=0.2.3->nbclassic>=0.4.7->notebook>=4.4.1->widgetsnbextension~=3.6.0->ipywidgets) (1.8.0)\n",
            "Requirement already satisfied: idna>=2.8 in /usr/local/lib/python3.10/dist-packages (from anyio<4,>=3.1.0->jupyter-server<3,>=1.8->notebook-shim>=0.2.3->nbclassic>=0.4.7->notebook>=4.4.1->widgetsnbextension~=3.6.0->ipywidgets) (3.10)\n",
            "Requirement already satisfied: sniffio>=1.1 in /usr/local/lib/python3.10/dist-packages (from anyio<4,>=3.1.0->jupyter-server<3,>=1.8->notebook-shim>=0.2.3->nbclassic>=0.4.7->notebook>=4.4.1->widgetsnbextension~=3.6.0->ipywidgets) (1.3.1)\n",
            "Requirement already satisfied: exceptiongroup in /usr/local/lib/python3.10/dist-packages (from anyio<4,>=3.1.0->jupyter-server<3,>=1.8->notebook-shim>=0.2.3->nbclassic>=0.4.7->notebook>=4.4.1->widgetsnbextension~=3.6.0->ipywidgets) (1.2.2)\n",
            "Downloading jedi-0.19.1-py2.py3-none-any.whl (1.6 MB)\n",
            "\u001b[2K   \u001b[90m━━━━━━━━━━━━━━━━━━━━━━━━━━━━━━━━━━━━━━━━\u001b[0m \u001b[32m1.6/1.6 MB\u001b[0m \u001b[31m17.1 MB/s\u001b[0m eta \u001b[36m0:00:00\u001b[0m\n",
            "\u001b[?25hInstalling collected packages: jedi\n",
            "Successfully installed jedi-0.19.1\n"
          ]
        }
      ]
    },
    {
      "cell_type": "code",
      "source": [
        "import ipywidgets as widgets\n",
        "from IPython.display import display\n",
        "import google.generativeai as genai"
      ],
      "metadata": {
        "id": "rR9iF8cxJCaR"
      },
      "execution_count": 20,
      "outputs": []
    },
    {
      "cell_type": "code",
      "source": [
        "def bot_response(user_input):\n",
        "    model = genai.GenerativeModel(model_name=\"tunedModels/law-84ef0wdtz04x\")\n",
        "    result = model.generate_content(user_input)\n",
        "    return result.text"
      ],
      "metadata": {
        "id": "J7M0pQqvJHXh"
      },
      "execution_count": 22,
      "outputs": []
    },
    {
      "cell_type": "code",
      "source": [
        "input_box = widgets.Text(\n",
        "    description=\"Ask:\",\n",
        "    placeholder=\"Type your question here...\"\n",
        ")\n",
        "\n",
        "output_area = widgets.Output()\n",
        "\n",
        "def on_submit(sender):\n",
        "    user_input = input_box.value\n",
        "    input_box.value = \"\"\n",
        "    response = bot_response(user_input)\n",
        "\n",
        "    with output_area:\n",
        "        print(f\"You: {user_input}\")\n",
        "        print(f\"LawBot: {response}\\n\")\n",
        "\n",
        "input_box.on_submit(on_submit)\n",
        "\n",
        "display(input_box, output_area)"
      ],
      "metadata": {
        "colab": {
          "base_uri": "https://localhost:8080/",
          "height": 275,
          "referenced_widgets": [
            "fa80f09ed7474a28a28fa7fe7e7541e3",
            "eeb5794faa29499c9366006cc5d577e5",
            "808e01e77390428280b3f83d02bd1bfd",
            "6113ea78467f4be6968b775c0b39db55",
            "2d1cc27c76fb420aba1b30c0f22c91f9"
          ]
        },
        "id": "KJFKFZXTJVSz",
        "outputId": "29e082cf-c26d-460d-f301-e68d7806a7f5"
      },
      "execution_count": 28,
      "outputs": [
        {
          "output_type": "display_data",
          "data": {
            "text/plain": [
              "Text(value='', description='Ask:', placeholder='Type your question here...')"
            ],
            "application/vnd.jupyter.widget-view+json": {
              "version_major": 2,
              "version_minor": 0,
              "model_id": "fa80f09ed7474a28a28fa7fe7e7541e3"
            }
          },
          "metadata": {}
        },
        {
          "output_type": "display_data",
          "data": {
            "text/plain": [
              "Output()"
            ],
            "application/vnd.jupyter.widget-view+json": {
              "version_major": 2,
              "version_minor": 0,
              "model_id": "6113ea78467f4be6968b775c0b39db55"
            }
          },
          "metadata": {}
        }
      ]
    },
    {
      "cell_type": "code",
      "source": [],
      "metadata": {
        "id": "JZ0MMLm7Jlxs"
      },
      "execution_count": null,
      "outputs": []
    }
  ]
}